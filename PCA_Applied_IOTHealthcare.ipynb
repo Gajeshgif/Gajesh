{
  "metadata": {
    "kernelspec": {
      "language": "python",
      "display_name": "Python 3",
      "name": "python3"
    },
    "language_info": {
      "name": "python",
      "version": "3.10.14",
      "mimetype": "text/x-python",
      "codemirror_mode": {
        "name": "ipython",
        "version": 3
      },
      "pygments_lexer": "ipython3",
      "nbconvert_exporter": "python",
      "file_extension": ".py"
    },
    "kaggle": {
      "accelerator": "none",
      "dataSources": [
        {
          "sourceId": 4918007,
          "sourceType": "datasetVersion",
          "datasetId": 2852100
        }
      ],
      "dockerImageVersionId": 30786,
      "isInternetEnabled": false,
      "language": "python",
      "sourceType": "notebook",
      "isGpuEnabled": false
    },
    "colab": {
      "name": "PCA_Applied_IOTHealthcare",
      "provenance": [],
      "include_colab_link": true
    }
  },
  "nbformat_minor": 0,
  "nbformat": 4,
  "cells": [
    {
      "cell_type": "markdown",
      "metadata": {
        "id": "view-in-github",
        "colab_type": "text"
      },
      "source": [
        "<a href=\"https://colab.research.google.com/github/Gajeshgif/Gajesh/blob/main/PCA_Applied_IOTHealthcare.ipynb\" target=\"_parent\"><img src=\"https://colab.research.google.com/assets/colab-badge.svg\" alt=\"Open In Colab\"/></a>"
      ]
    },
    {
      "source": [
        "# IMPORTANT: RUN THIS CELL IN ORDER TO IMPORT YOUR KAGGLE DATA SOURCES,\n",
        "# THEN FEEL FREE TO DELETE THIS CELL.\n",
        "# NOTE: THIS NOTEBOOK ENVIRONMENT DIFFERS FROM KAGGLE'S PYTHON\n",
        "# ENVIRONMENT SO THERE MAY BE MISSING LIBRARIES USED BY YOUR\n",
        "# NOTEBOOK.\n",
        "import kagglehub\n",
        "faisalmalik_iot_healthcare_security_dataset_path = kagglehub.dataset_download('faisalmalik/iot-healthcare-security-dataset')\n",
        "\n",
        "print('Data source import complete.')"
      ],
      "metadata": {
        "id": "h03WSZ3FYUV6"
      },
      "cell_type": "code",
      "outputs": [],
      "execution_count": null
    },
    {
      "cell_type": "code",
      "source": [
        "import seaborn as sns\n",
        "import pandas as pd\n",
        "import numpy as np\n",
        "import matplotlib.pyplot as plt\n",
        "import torch\n",
        "from torch import nn\n",
        "import os"
      ],
      "metadata": {
        "trusted": true,
        "execution": {
          "iopub.status.busy": "2024-11-22T18:07:18.37574Z",
          "iopub.execute_input": "2024-11-22T18:07:18.378873Z",
          "iopub.status.idle": "2024-11-22T18:07:18.963213Z",
          "shell.execute_reply.started": "2024-11-22T18:07:18.378777Z",
          "shell.execute_reply": "2024-11-22T18:07:18.961387Z"
        },
        "id": "NvRjOVCGYUWB"
      },
      "outputs": [],
      "execution_count": null
    },
    {
      "cell_type": "markdown",
      "source": [
        "## First, Create a Unified CSV with data from all 3 csv, and well shuffeled."
      ],
      "metadata": {
        "id": "LjA2vA8dYUWG"
      }
    },
    {
      "cell_type": "code",
      "source": [
        "\n",
        "\n",
        "# List of your CSV file paths\n",
        "csv_files = ['/kaggle/input/iot-healthcare-security-dataset/ICUDatasetProcessed/Attack.csv',\n",
        "             '/kaggle/input/iot-healthcare-security-dataset/ICUDatasetProcessed/environmentMonitoring.csv',\n",
        "             '/kaggle/input/iot-healthcare-security-dataset/ICUDatasetProcessed/patientMonitoring.csv']\n",
        "\n",
        "# Load all CSV files into a list of DataFrames\n",
        "dfs = [pd.read_csv(file) for file in csv_files]\n",
        "\n",
        "# Concatenate all DataFrames into a single DataFrame\n",
        "combined_df = pd.concat(dfs, ignore_index=True)\n",
        "\n",
        "# Shuffle the combined DataFrame\n",
        "shuffled_df = combined_df.sample(frac=1).reset_index(drop=True)\n",
        "\n",
        "# Export the shuffled DataFrame to a new CSV file\n",
        "shuffled_df.to_csv('shuffled_data.csv', index=False)\n"
      ],
      "metadata": {
        "_uuid": "8f2839f25d086af736a60e9eeb907d3b93b6e0e5",
        "_cell_guid": "b1076dfc-b9ad-4769-8c92-a6c4dae69d19",
        "trusted": true,
        "execution": {
          "iopub.status.busy": "2024-11-22T18:07:18.965024Z",
          "iopub.execute_input": "2024-11-22T18:07:18.965771Z",
          "iopub.status.idle": "2024-11-22T18:07:29.691822Z",
          "shell.execute_reply.started": "2024-11-22T18:07:18.965719Z",
          "shell.execute_reply": "2024-11-22T18:07:29.690384Z"
        },
        "id": "ec7dyMJ2YUWM"
      },
      "outputs": [],
      "execution_count": null
    },
    {
      "cell_type": "markdown",
      "source": [
        "## Load the Shuffeled dataset"
      ],
      "metadata": {
        "id": "BEB4oow0YUWR"
      }
    },
    {
      "cell_type": "code",
      "source": [
        "df=pd.read_csv(\"/kaggle/working/shuffled_data.csv\")\n",
        "y=df[\"label\"]\n",
        "y_class=df[\"class\"]\n",
        "df.drop([\"class\",\"label\"], axis=1, inplace=True)"
      ],
      "metadata": {
        "trusted": true,
        "execution": {
          "iopub.status.busy": "2024-11-22T18:07:29.69431Z",
          "iopub.execute_input": "2024-11-22T18:07:29.694724Z",
          "iopub.status.idle": "2024-11-22T18:07:31.742691Z",
          "shell.execute_reply.started": "2024-11-22T18:07:29.694686Z",
          "shell.execute_reply": "2024-11-22T18:07:31.741824Z"
        },
        "id": "aWfqEHZNYUWU"
      },
      "outputs": [],
      "execution_count": null
    },
    {
      "cell_type": "code",
      "source": [
        "df.head(5)"
      ],
      "metadata": {
        "trusted": true,
        "execution": {
          "iopub.status.busy": "2024-11-22T18:07:31.744176Z",
          "iopub.execute_input": "2024-11-22T18:07:31.744522Z",
          "iopub.status.idle": "2024-11-22T18:07:31.774292Z",
          "shell.execute_reply.started": "2024-11-22T18:07:31.744491Z",
          "shell.execute_reply": "2024-11-22T18:07:31.773211Z"
        },
        "id": "c1ABzgVIYUWZ"
      },
      "outputs": [],
      "execution_count": null
    },
    {
      "cell_type": "markdown",
      "source": [
        "Get a count of number of columns"
      ],
      "metadata": {
        "id": "7TQeADUPYUWf"
      }
    },
    {
      "cell_type": "code",
      "source": [
        "df.columns , len(df.columns) ## Too many columns"
      ],
      "metadata": {
        "trusted": true,
        "execution": {
          "iopub.status.busy": "2024-11-22T18:07:31.775471Z",
          "iopub.execute_input": "2024-11-22T18:07:31.775783Z",
          "iopub.status.idle": "2024-11-22T18:07:31.783331Z",
          "shell.execute_reply.started": "2024-11-22T18:07:31.775752Z",
          "shell.execute_reply": "2024-11-22T18:07:31.782242Z"
        },
        "id": "VyWWZKseYUWj"
      },
      "outputs": [],
      "execution_count": null
    },
    {
      "cell_type": "markdown",
      "source": [
        "## Preprocess the data"
      ],
      "metadata": {
        "id": "8kD2En5nYUWn"
      }
    },
    {
      "cell_type": "code",
      "source": [
        "## Consulted a domain expert to pick some relevant columns.\n",
        "\n",
        "relevant_columns = [\n",
        "    'tcp.srcport', 'tcp.dstport', 'tcp.flags', 'tcp.ack', 'tcp.window_size_value',\n",
        "    'tcp.connection.fin', 'tcp.connection.syn', 'tcp.connection.rst', 'tcp.payload',\n",
        "    'ip.src', 'ip.dst', 'ip.proto', 'ip.ttl', 'mqtt.clientid', 'mqtt.msgtype',\n",
        "    'mqtt.topic', 'mqtt.kalive', 'mqtt.len', 'mqtt.qos', 'tcp.checksum',\n",
        "    'tcp.hdr_len', 'frame.time_delta', 'frame.time_relative', 'tcp.time_delta'\n",
        "]\n",
        "\n",
        "# Filter DataFrame to keep only the relevant columns\n",
        "df = df[relevant_columns]\n",
        "df.drop(\"ip.proto\",axis=1,inplace=True)"
      ],
      "metadata": {
        "trusted": true,
        "execution": {
          "iopub.status.busy": "2024-11-22T18:07:31.784894Z",
          "iopub.execute_input": "2024-11-22T18:07:31.785341Z",
          "iopub.status.idle": "2024-11-22T18:07:31.834097Z",
          "shell.execute_reply.started": "2024-11-22T18:07:31.785296Z",
          "shell.execute_reply": "2024-11-22T18:07:31.833239Z"
        },
        "id": "fXYo08n8YUWr"
      },
      "outputs": [],
      "execution_count": null
    },
    {
      "cell_type": "markdown",
      "source": [
        "#### Let's Get a track on the number of categorical columns"
      ],
      "metadata": {
        "id": "40i26POZYUWv"
      }
    },
    {
      "cell_type": "code",
      "source": [
        "categorial_df=df.select_dtypes(include=\"object\")\n",
        "categorical_cols=[]\n",
        "for col in categorial_df.columns:\n",
        "    print(col, \":\", len(df[col].unique()), \"labels\")\n",
        "    categorical_cols.append(col)\n",
        "\n",
        "## Not Going to apply OHE, but Frequency Encoding; cuz too much unique vals."
      ],
      "metadata": {
        "trusted": true,
        "execution": {
          "iopub.status.busy": "2024-11-22T18:07:31.835437Z",
          "iopub.execute_input": "2024-11-22T18:07:31.83585Z",
          "iopub.status.idle": "2024-11-22T18:07:32.081522Z",
          "shell.execute_reply.started": "2024-11-22T18:07:31.835795Z",
          "shell.execute_reply": "2024-11-22T18:07:32.08052Z"
        },
        "id": "aGrJFEjRYUWx"
      },
      "outputs": [],
      "execution_count": null
    },
    {
      "cell_type": "markdown",
      "source": [
        "## Train-Test Split Before further processing;\n",
        "Prevent data leaks"
      ],
      "metadata": {
        "id": "f9zvv11jYUW1"
      }
    },
    {
      "cell_type": "code",
      "source": [
        "from sklearn.model_selection import train_test_split\n",
        "\n",
        "# Split the data into train and test sets\n",
        "X_train, X_test, y_train, y_test = train_test_split(df, y, test_size=0.3, random_state=42)\n"
      ],
      "metadata": {
        "trusted": true,
        "execution": {
          "iopub.status.busy": "2024-11-22T18:07:32.084926Z",
          "iopub.execute_input": "2024-11-22T18:07:32.08528Z",
          "iopub.status.idle": "2024-11-22T18:07:32.152396Z",
          "shell.execute_reply.started": "2024-11-22T18:07:32.085241Z",
          "shell.execute_reply": "2024-11-22T18:07:32.151398Z"
        },
        "id": "0A8EED-TYUW3"
      },
      "outputs": [],
      "execution_count": null
    },
    {
      "cell_type": "markdown",
      "source": [
        "### Frequency Categorical Encoding; there is data loss though.\n",
        "For ex:\n",
        "\n",
        "#### Example Dataset\n",
        "| Category | Count |\n",
        "|----------|-------|\n",
        "| A        | 5     |\n",
        "| B        | 3     |\n",
        "| C        | 5     |\n",
        "| D        | 3     |\n",
        "\n",
        "#### Frequency Encoding\n",
        "After encoding, the dataset looks like this:\n",
        "\n",
        "| Category | Frequency Encoded |\n",
        "|----------|--------------------|\n",
        "| A        | 5                 |\n",
        "| B        | 3                 |\n",
        "| C        | 5                 |\n",
        "| D        | 3                 |\n",
        "\n",
        "#### Issue: Data Loss\n",
        "- Categories **A** and **C** both have the same encoded value (`5`).\n",
        "- Similarly, categories **B** and **D** both have the same encoded value (`3`).\n",
        "\n",
        "This leads to **ambiguity** because the encoded values cannot distinguish between `A` and `C`, or `B` and `D`. As a result, downstream models may misinterpret these categories as identical, potentially affecting the model's performance and accuracy."
      ],
      "metadata": {
        "id": "CmUUTshLYUW6"
      }
    },
    {
      "cell_type": "code",
      "source": [
        "## But in this case, after testing it out; didn't face much issue.\n",
        "\n",
        "for col in categorical_cols:\n",
        "    # Create a frequency map using the training set\n",
        "    frequency_map = X_train[col].value_counts().to_dict()\n",
        "\n",
        "    # Apply frequency mapping to both train and test sets, handling unseen categories by assigning 0\n",
        "    X_train[f\"{col}_frequency\"] = X_train[col].map(frequency_map)\n",
        "    X_test[f\"{col}_frequency\"] = X_test[col].map(frequency_map).fillna(0)  # Replace NaNs with 0 or another value\n",
        "\n",
        "    # Drop the original column (optional)\n",
        "    X_train.drop([col], axis=1, inplace=True)\n",
        "    X_test.drop([col], axis=1, inplace=True)"
      ],
      "metadata": {
        "trusted": true,
        "execution": {
          "iopub.status.busy": "2024-11-22T18:07:32.153731Z",
          "iopub.execute_input": "2024-11-22T18:07:32.154073Z",
          "iopub.status.idle": "2024-11-22T18:07:32.721087Z",
          "shell.execute_reply.started": "2024-11-22T18:07:32.15404Z",
          "shell.execute_reply": "2024-11-22T18:07:32.720167Z"
        },
        "id": "EDj_7OCqYUW8"
      },
      "outputs": [],
      "execution_count": null
    },
    {
      "cell_type": "markdown",
      "source": [
        "### Perform Correlation Analysis"
      ],
      "metadata": {
        "id": "rDP3kh6EYUXA"
      }
    },
    {
      "cell_type": "code",
      "source": [
        "def correlation(dataset,threshold):\n",
        "    col_corr=set()\n",
        "    corr_matrix=dataset.corr()\n",
        "    for i in range(len(corr_matrix.columns)):\n",
        "        for j in range(i):\n",
        "            if (corr_matrix.iloc[i,j])>threshold:\n",
        "                colname=corr_matrix.columns[i]\n",
        "                col_corr.add(colname)\n",
        "\n",
        "    return col_corr"
      ],
      "metadata": {
        "trusted": true,
        "execution": {
          "iopub.status.busy": "2024-11-22T18:07:32.722349Z",
          "iopub.execute_input": "2024-11-22T18:07:32.722828Z",
          "iopub.status.idle": "2024-11-22T18:07:32.72911Z",
          "shell.execute_reply.started": "2024-11-22T18:07:32.72278Z",
          "shell.execute_reply": "2024-11-22T18:07:32.727971Z"
        },
        "id": "2BkseXw-YUXD"
      },
      "outputs": [],
      "execution_count": null
    },
    {
      "cell_type": "code",
      "source": [
        "plt.figure(figsize=(24,20))\n",
        "corr=X_train.corr()\n",
        "sns.heatmap(corr, annot=True,cmap=plt.cm.CMRmap_r)\n",
        "plt.show()"
      ],
      "metadata": {
        "trusted": true,
        "execution": {
          "iopub.status.busy": "2024-11-22T18:07:32.730355Z",
          "iopub.execute_input": "2024-11-22T18:07:32.730727Z",
          "iopub.status.idle": "2024-11-22T18:07:34.975429Z",
          "shell.execute_reply.started": "2024-11-22T18:07:32.730694Z",
          "shell.execute_reply": "2024-11-22T18:07:34.974376Z"
        },
        "id": "SaXEW4E_YUXG"
      },
      "outputs": [],
      "execution_count": null
    },
    {
      "cell_type": "code",
      "source": [
        "## Drop 1 of the features with corr>0.75\n",
        "\n",
        "corr_features=correlation(X_train,0.75)\n",
        "len(set(corr_features)),corr_features"
      ],
      "metadata": {
        "trusted": true,
        "execution": {
          "iopub.status.busy": "2024-11-22T18:07:34.976632Z",
          "iopub.execute_input": "2024-11-22T18:07:34.97696Z",
          "iopub.status.idle": "2024-11-22T18:07:35.194924Z",
          "shell.execute_reply.started": "2024-11-22T18:07:34.976928Z",
          "shell.execute_reply": "2024-11-22T18:07:35.193853Z"
        },
        "id": "h86s1_vYYUXI"
      },
      "outputs": [],
      "execution_count": null
    },
    {
      "cell_type": "code",
      "source": [
        "X_train.drop(\"ip.ttl\",axis=1,inplace=True)\n",
        "X_test.drop(\"ip.ttl\",axis=1,inplace=True)"
      ],
      "metadata": {
        "trusted": true,
        "execution": {
          "iopub.status.busy": "2024-11-22T18:07:35.196773Z",
          "iopub.execute_input": "2024-11-22T18:07:35.197191Z",
          "iopub.status.idle": "2024-11-22T18:07:35.212914Z",
          "shell.execute_reply.started": "2024-11-22T18:07:35.197145Z",
          "shell.execute_reply": "2024-11-22T18:07:35.211817Z"
        },
        "id": "EhUMdcJSYUXK"
      },
      "outputs": [],
      "execution_count": null
    },
    {
      "cell_type": "markdown",
      "source": [
        "### Apply Scaling"
      ],
      "metadata": {
        "id": "4Wqn8fsLYUXM"
      }
    },
    {
      "cell_type": "code",
      "source": [
        "from sklearn.preprocessing import  StandardScaler"
      ],
      "metadata": {
        "trusted": true,
        "execution": {
          "iopub.status.busy": "2024-11-22T18:07:35.214114Z",
          "iopub.execute_input": "2024-11-22T18:07:35.214438Z",
          "iopub.status.idle": "2024-11-22T18:07:35.218853Z",
          "shell.execute_reply.started": "2024-11-22T18:07:35.214405Z",
          "shell.execute_reply": "2024-11-22T18:07:35.217734Z"
        },
        "id": "WehLi8npYUXO"
      },
      "outputs": [],
      "execution_count": null
    },
    {
      "cell_type": "code",
      "source": [
        "scaler = StandardScaler()\n",
        "scaler.fit(X_train)"
      ],
      "metadata": {
        "trusted": true,
        "execution": {
          "iopub.status.busy": "2024-11-22T18:07:35.219934Z",
          "iopub.execute_input": "2024-11-22T18:07:35.220199Z",
          "iopub.status.idle": "2024-11-22T18:07:35.272258Z",
          "shell.execute_reply.started": "2024-11-22T18:07:35.220172Z",
          "shell.execute_reply": "2024-11-22T18:07:35.271232Z"
        },
        "id": "3nJrhZjcYUXR"
      },
      "outputs": [],
      "execution_count": null
    },
    {
      "cell_type": "code",
      "source": [
        "X_train=scaler.transform(X_train)\n",
        "X_test=scaler.fit_transform(X_test)"
      ],
      "metadata": {
        "trusted": true,
        "execution": {
          "iopub.status.busy": "2024-11-22T18:07:35.27355Z",
          "iopub.execute_input": "2024-11-22T18:07:35.273876Z",
          "iopub.status.idle": "2024-11-22T18:07:35.320422Z",
          "shell.execute_reply.started": "2024-11-22T18:07:35.273844Z",
          "shell.execute_reply": "2024-11-22T18:07:35.319446Z"
        },
        "id": "HbdVqwrNYUXT"
      },
      "outputs": [],
      "execution_count": null
    },
    {
      "cell_type": "markdown",
      "source": [
        "### Apply PCA"
      ],
      "metadata": {
        "id": "S3lZOgL7YUXW"
      }
    },
    {
      "cell_type": "code",
      "source": [
        "from sklearn.decomposition import  PCA\n",
        "pca=PCA(n_components=2) ## Only 2 features, easy to plot and works surprisingly good\n",
        "pca.fit(X_train)\n"
      ],
      "metadata": {
        "trusted": true,
        "execution": {
          "iopub.status.busy": "2024-11-22T18:07:35.32163Z",
          "iopub.execute_input": "2024-11-22T18:07:35.321972Z",
          "iopub.status.idle": "2024-11-22T18:07:35.929826Z",
          "shell.execute_reply.started": "2024-11-22T18:07:35.32194Z",
          "shell.execute_reply": "2024-11-22T18:07:35.928878Z"
        },
        "id": "JOYbp3zPYUXX"
      },
      "outputs": [],
      "execution_count": null
    },
    {
      "cell_type": "code",
      "source": [
        "X_train=pca.transform(X_train)\n",
        "X_test=pca.fit_transform(X_test)"
      ],
      "metadata": {
        "trusted": true,
        "execution": {
          "iopub.status.busy": "2024-11-22T18:07:35.931094Z",
          "iopub.execute_input": "2024-11-22T18:07:35.931498Z",
          "iopub.status.idle": "2024-11-22T18:07:36.215301Z",
          "shell.execute_reply.started": "2024-11-22T18:07:35.931456Z",
          "shell.execute_reply": "2024-11-22T18:07:36.210534Z"
        },
        "id": "Q83Ri_iIYUXa"
      },
      "outputs": [],
      "execution_count": null
    },
    {
      "cell_type": "markdown",
      "source": [
        "## Visualization Post PCA"
      ],
      "metadata": {
        "id": "jtT77D4YYUXd"
      }
    },
    {
      "cell_type": "code",
      "source": [
        "## Train Dataset\n",
        "\n",
        "import matplotlib.colors as mcolors\n",
        "\n",
        "# Create a custom colormap\n",
        "cmap = mcolors.LinearSegmentedColormap.from_list('purple_orange', ['purple', 'orange'])\n",
        "\n",
        "plt.figure(figsize=(8, 12))\n",
        "\n",
        "plt.subplot(2,1,1)\n",
        "plt.scatter(X_train[:, 0], X_train[:, 1], c=y_train, cmap=cmap)\n",
        "plt.xlabel(\"First Principal Component\")\n",
        "plt.ylabel(\"Second Principal Component\")\n",
        "plt.colorbar(label='Class')  # Optional: add a color bar for clarity\n",
        "plt.title(\"PCA of TRAIN Dataset Colored by Class\")\n",
        "\n",
        "plt.subplot(2,1,2)\n",
        "plt.scatter(X_test[:, 0], X_test[:, 1], c=y_test, cmap=cmap)\n",
        "plt.xlabel(\"First Principal Component\")\n",
        "plt.ylabel(\"Second Principal Component\")\n",
        "plt.colorbar(label='Class')  # Optional: add a color bar for clarity\n",
        "plt.title(\"PCA of TEST Dataset Colored by Class\")\n",
        "plt.show()\n"
      ],
      "metadata": {
        "trusted": true,
        "execution": {
          "iopub.status.busy": "2024-11-22T18:07:36.221069Z",
          "iopub.execute_input": "2024-11-22T18:07:36.222942Z",
          "iopub.status.idle": "2024-11-22T18:07:40.640868Z",
          "shell.execute_reply.started": "2024-11-22T18:07:36.222847Z",
          "shell.execute_reply": "2024-11-22T18:07:40.639731Z"
        },
        "id": "GwobP-3TYUXe"
      },
      "outputs": [],
      "execution_count": null
    },
    {
      "cell_type": "markdown",
      "source": [
        "#### We can Infer, the dataset is pretty well seperated (the normal cases [purple] are pretty well clustered) compared to the attack ones[yellow] which are pretty far"
      ],
      "metadata": {
        "id": "pFnd8upaYUXh"
      }
    },
    {
      "cell_type": "markdown",
      "source": [
        "### Converting y-train and y-test to numpy arrays"
      ],
      "metadata": {
        "id": "b2ieuj3xYUXi"
      }
    },
    {
      "cell_type": "code",
      "source": [
        "y_train=y_train.to_numpy()\n",
        "y_test=y_test.to_numpy()"
      ],
      "metadata": {
        "trusted": true,
        "execution": {
          "iopub.status.busy": "2024-11-22T18:07:40.642252Z",
          "iopub.execute_input": "2024-11-22T18:07:40.642628Z",
          "iopub.status.idle": "2024-11-22T18:07:40.64817Z",
          "shell.execute_reply.started": "2024-11-22T18:07:40.642586Z",
          "shell.execute_reply": "2024-11-22T18:07:40.647051Z"
        },
        "id": "dAxQ7gyuYUXk"
      },
      "outputs": [],
      "execution_count": null
    },
    {
      "cell_type": "markdown",
      "source": [
        "### Configure device agnostic code for torch"
      ],
      "metadata": {
        "id": "ThjcA03HYUXm"
      }
    },
    {
      "cell_type": "code",
      "source": [
        "device = \"cuda\" if torch.cuda.is_available() else \"cpu\"\n",
        "device"
      ],
      "metadata": {
        "trusted": true,
        "execution": {
          "iopub.status.busy": "2024-11-22T18:07:40.649487Z",
          "iopub.execute_input": "2024-11-22T18:07:40.649893Z",
          "iopub.status.idle": "2024-11-22T18:07:40.662955Z",
          "shell.execute_reply.started": "2024-11-22T18:07:40.649862Z",
          "shell.execute_reply": "2024-11-22T18:07:40.661813Z"
        },
        "id": "rVfYnhKAYUXo"
      },
      "outputs": [],
      "execution_count": null
    },
    {
      "cell_type": "markdown",
      "source": [
        "### Create Tensors and send them to device"
      ],
      "metadata": {
        "id": "RKR6OihGYUXq"
      }
    },
    {
      "cell_type": "code",
      "source": [
        "X_train=torch.from_numpy(X_train).type(torch.float)\n",
        "X_test=torch.from_numpy(X_test).type(torch.float)\n",
        "y_train=torch.from_numpy(y_train).type(torch.float)\n",
        "y_test=torch.from_numpy(y_test).type(torch.float)\n",
        "\n",
        "X_train.to(device)\n",
        "X_test.to(device)\n",
        "y_train.to(device)\n",
        "y_test.to(device)\n",
        "len(X_train),len(y_train),len(X_test),len(y_test)"
      ],
      "metadata": {
        "trusted": true,
        "execution": {
          "iopub.status.busy": "2024-11-22T18:07:40.66429Z",
          "iopub.execute_input": "2024-11-22T18:07:40.664607Z",
          "iopub.status.idle": "2024-11-22T18:07:40.701861Z",
          "shell.execute_reply.started": "2024-11-22T18:07:40.664575Z",
          "shell.execute_reply": "2024-11-22T18:07:40.700576Z"
        },
        "id": "2sH47sBqYUXs"
      },
      "outputs": [],
      "execution_count": null
    },
    {
      "cell_type": "markdown",
      "source": [
        "## Model Architecture"
      ],
      "metadata": {
        "id": "uPnRzwZSYUXv"
      }
    },
    {
      "cell_type": "markdown",
      "source": [
        "The Architecture is influenced from Tensorboard playground spiral classification dataset fitting model"
      ],
      "metadata": {
        "id": "1k4b4mZhYUYJ"
      }
    },
    {
      "cell_type": "code",
      "source": [
        "import torch\n",
        "import torch.nn as nn\n",
        "\n",
        "class PCABinaryClassifier(nn.Module):\n",
        "    def __init__(self):\n",
        "        super().__init__()\n",
        "\n",
        "        # Update in_features to 6 since we now have 6 features (2 original + 4 intricate)\n",
        "        self.layer_1 = nn.Linear(in_features=6, out_features=8)\n",
        "        self.layer_2 = nn.Linear(in_features=8, out_features=1)  # Assuming binary classification\n",
        "        self.relu = nn.ReLU()\n",
        "\n",
        "    def forward(self, x):\n",
        "        # Calculate intricate features inside the model\n",
        "        x1 = x[:, 0]  # PCA1\n",
        "        x2 = x[:, 1]  # PCA2\n",
        "\n",
        "        # Create intricate features\n",
        "        x1_squared = x1 ** 2\n",
        "        x2_squared = x2 ** 2\n",
        "        sin_x1 = torch.sin(x1)\n",
        "        sin_x2 = torch.sin(x2)\n",
        "\n",
        "        # Concatenate original features and intricate features\n",
        "        x = torch.stack((x1, x2, x1_squared, x2_squared, sin_x1, sin_x2), dim=1)\n",
        "\n",
        "        # Forward pass through the layers\n",
        "        x = self.relu(self.layer_1(x))\n",
        "        return self.layer_2(x)\n"
      ],
      "metadata": {
        "trusted": true,
        "execution": {
          "iopub.status.busy": "2024-11-22T18:07:40.706918Z",
          "iopub.execute_input": "2024-11-22T18:07:40.707273Z",
          "iopub.status.idle": "2024-11-22T18:07:40.715174Z",
          "shell.execute_reply.started": "2024-11-22T18:07:40.707239Z",
          "shell.execute_reply": "2024-11-22T18:07:40.714176Z"
        },
        "id": "lp_ctcRNYUYL"
      },
      "outputs": [],
      "execution_count": null
    },
    {
      "cell_type": "code",
      "source": [
        "model = PCABinaryClassifier()\n",
        "model.to(device)"
      ],
      "metadata": {
        "trusted": true,
        "execution": {
          "iopub.status.busy": "2024-11-22T18:07:40.716981Z",
          "iopub.execute_input": "2024-11-22T18:07:40.71741Z",
          "iopub.status.idle": "2024-11-22T18:07:40.742486Z",
          "shell.execute_reply.started": "2024-11-22T18:07:40.717364Z",
          "shell.execute_reply": "2024-11-22T18:07:40.741508Z"
        },
        "id": "LjDU2DJJYUYN"
      },
      "outputs": [],
      "execution_count": null
    },
    {
      "cell_type": "markdown",
      "source": [
        "## Configure Loss and Optimizer"
      ],
      "metadata": {
        "id": "eB4tWKe9YUYQ"
      }
    },
    {
      "cell_type": "code",
      "source": [
        "loss_fn=nn.BCEWithLogitsLoss()\n",
        "optimizer=torch.optim.SGD(params=model.parameters(), lr=0.1)"
      ],
      "metadata": {
        "trusted": true,
        "execution": {
          "iopub.status.busy": "2024-11-22T18:07:40.743618Z",
          "iopub.execute_input": "2024-11-22T18:07:40.743944Z",
          "iopub.status.idle": "2024-11-22T18:07:41.622554Z",
          "shell.execute_reply.started": "2024-11-22T18:07:40.743913Z",
          "shell.execute_reply": "2024-11-22T18:07:41.62134Z"
        },
        "id": "6C4qYy9FYUYS"
      },
      "outputs": [],
      "execution_count": null
    },
    {
      "cell_type": "markdown",
      "source": [
        "### Create an accuracy Helper function"
      ],
      "metadata": {
        "id": "Xckll7RhYUYU"
      }
    },
    {
      "cell_type": "code",
      "source": [
        "def accuracy_fn(y_true,y_pred):\n",
        "  correct=torch.eq(y_true,y_pred).sum().item()\n",
        "  acc=correct/len(y_pred)\n",
        "  return acc"
      ],
      "metadata": {
        "trusted": true,
        "execution": {
          "iopub.status.busy": "2024-11-22T18:07:41.623868Z",
          "iopub.execute_input": "2024-11-22T18:07:41.624419Z",
          "iopub.status.idle": "2024-11-22T18:07:41.630152Z",
          "shell.execute_reply.started": "2024-11-22T18:07:41.624384Z",
          "shell.execute_reply": "2024-11-22T18:07:41.628989Z"
        },
        "id": "N4AiW4gqYUYW"
      },
      "outputs": [],
      "execution_count": null
    },
    {
      "cell_type": "markdown",
      "source": [
        "## Training and Testing Loop"
      ],
      "metadata": {
        "id": "N2u9eckyYUYZ"
      }
    },
    {
      "cell_type": "code",
      "source": [
        "train_loss_arr=[]\n",
        "test_loss_arr=[]"
      ],
      "metadata": {
        "trusted": true,
        "execution": {
          "iopub.status.busy": "2024-11-22T18:07:41.63152Z",
          "iopub.execute_input": "2024-11-22T18:07:41.631904Z",
          "iopub.status.idle": "2024-11-22T18:07:41.642501Z",
          "shell.execute_reply.started": "2024-11-22T18:07:41.631869Z",
          "shell.execute_reply": "2024-11-22T18:07:41.641511Z"
        },
        "id": "xyf6f0bhYUYb"
      },
      "outputs": [],
      "execution_count": null
    },
    {
      "cell_type": "code",
      "source": [
        "torch.manual_seed(42)\n",
        "torch.cuda.manual_seed(42)\n",
        "\n",
        "epochs=2000\n",
        "\n",
        "for epoch in range(epochs):\n",
        "  model.train()\n",
        "\n",
        "  ## Forward Pass\n",
        "  y_logits=model(X_train).squeeze(dim=1)\n",
        "  y_pred=torch.round(torch.sigmoid(y_logits))\n",
        "\n",
        "  ## Calc loss\n",
        "  loss=loss_fn(y_logits,y_train)\n",
        "  train_loss_arr.append(loss)\n",
        "  acc=accuracy_fn(y_pred=y_pred,y_true=y_train)\n",
        "\n",
        "  ## Zero Grad\n",
        "  optimizer.zero_grad()\n",
        "\n",
        "  ## Backpropagation\n",
        "  loss.backward()\n",
        "\n",
        "  ## Step\n",
        "  optimizer.step()\n",
        "\n",
        "  ## Testing\n",
        "  model.eval()\n",
        "\n",
        "  with torch.inference_mode():\n",
        "    test_logits=model(X_test).squeeze(dim=1)\n",
        "    test_loss=loss_fn(test_logits,y_test)\n",
        "    test_loss_arr.append(test_loss)\n",
        "    test_pred=torch.round(torch.sigmoid(test_logits))\n",
        "    test_acc=accuracy_fn(y_pred=test_pred,y_true=y_test)\n",
        "\n",
        "\n",
        "  if epoch%10==0:\n",
        "    print(f\"Epoch: {epoch}| Training Loss: {loss:.4f} | Testing Loss: {test_loss:.4f}\")\n",
        "    print(f\"Epoch: {epoch}| Training Acc: {acc*100} % | Testing Acc: {test_acc*100} %\")\n"
      ],
      "metadata": {
        "trusted": true,
        "execution": {
          "iopub.status.busy": "2024-11-22T18:07:41.644075Z",
          "iopub.execute_input": "2024-11-22T18:07:41.644562Z",
          "iopub.status.idle": "2024-11-22T18:08:06.314272Z",
          "shell.execute_reply.started": "2024-11-22T18:07:41.644512Z",
          "shell.execute_reply": "2024-11-22T18:08:06.312539Z"
        },
        "id": "QPH1dMOKYUYe"
      },
      "outputs": [],
      "execution_count": null
    },
    {
      "cell_type": "code",
      "source": [
        "# Convert the tensor arrays to NumPy arrays\n",
        "train_loss_arr = np.array([loss.detach().numpy() for loss in train_loss_arr])\n",
        "test_loss_arr = np.array([loss.detach().numpy() for loss in test_loss_arr])"
      ],
      "metadata": {
        "trusted": true,
        "execution": {
          "iopub.status.busy": "2024-11-22T18:08:06.315951Z",
          "iopub.execute_input": "2024-11-22T18:08:06.316475Z",
          "iopub.status.idle": "2024-11-22T18:08:06.366913Z",
          "shell.execute_reply.started": "2024-11-22T18:08:06.316425Z",
          "shell.execute_reply": "2024-11-22T18:08:06.365748Z"
        },
        "id": "vyXFZy0VYUYh"
      },
      "outputs": [],
      "execution_count": null
    },
    {
      "cell_type": "code",
      "source": [
        "epochs_range= range(1, len(train_loss_arr) + 1)\n",
        "plt.figure(figsize=(10, 6))\n",
        "plt.plot(epochs_range, train_loss_arr, label='Train Loss', color='blue')\n",
        "plt.plot(epochs_range, test_loss_arr, label='Test Loss', color='orange')\n",
        "\n",
        "# Add titles, labels, and legend\n",
        "plt.title('Train and Test Loss over Epochs')\n",
        "plt.xlabel('Epochs')\n",
        "plt.ylabel('Loss')\n",
        "plt.legend()\n",
        "plt.grid(True)\n",
        "\n",
        "# Display the plot\n",
        "plt.show()"
      ],
      "metadata": {
        "trusted": true,
        "execution": {
          "iopub.status.busy": "2024-11-22T18:08:51.876578Z",
          "iopub.execute_input": "2024-11-22T18:08:51.876976Z",
          "iopub.status.idle": "2024-11-22T18:08:52.197685Z",
          "shell.execute_reply.started": "2024-11-22T18:08:51.876941Z",
          "shell.execute_reply": "2024-11-22T18:08:52.196648Z"
        },
        "id": "dmgi6L4-YUYj"
      },
      "outputs": [],
      "execution_count": null
    },
    {
      "cell_type": "markdown",
      "source": [
        "## Get Some Helper Functions (A Decision Boundary plotter)\n",
        "\n",
        "#### \"https://raw.githubusercontent.com/mrdbourke/pytorch-deep-learning/refs/heads/main/helper_functions.py\""
      ],
      "metadata": {
        "id": "-q2c1YU-YUYm"
      }
    },
    {
      "cell_type": "code",
      "source": [
        "# This code block wasn't working on kaggle, it should otherwise.\n",
        "\n",
        "# import requests\n",
        "# import os\n",
        "\n",
        "# if os.path.exists(\"helper_functions.py\"):\n",
        "#   print(\"Skipping download, helper_functions.py exists!\")\n",
        "# else:\n",
        "#   print(\"Downloading helper_functions.py\")\n",
        "#   request = requests.get(\"https://raw.githubusercontent.com/mrdbourke/pytorch-deep-learning/refs/heads/main/helper_functions.py\")\n",
        "#   with open(\"helper_functions.py\", \"wb\") as f:\n",
        "#     f.write(request.content)"
      ],
      "metadata": {
        "trusted": true,
        "execution": {
          "iopub.status.busy": "2024-11-22T18:08:55.631545Z",
          "iopub.execute_input": "2024-11-22T18:08:55.631947Z",
          "iopub.status.idle": "2024-11-22T18:08:55.638235Z",
          "shell.execute_reply.started": "2024-11-22T18:08:55.631904Z",
          "shell.execute_reply": "2024-11-22T18:08:55.636237Z"
        },
        "id": "i8lLBbz3YUYo"
      },
      "outputs": [],
      "execution_count": null
    },
    {
      "cell_type": "code",
      "source": [
        "## Credits to Daniel Bourke for this amazing function, check out his\n",
        "# \"https://youtu.be/Z_ikDlimN6A?si=pdyrLr9IM_za8AZH\" --> Learn PyTorch for deep learning in a day. Literally.\n",
        "\n",
        "def plot_decision_boundary(model: torch.nn.Module, X: torch.Tensor, y: torch.Tensor):\n",
        "    \"\"\"Plots decision boundaries of model predicting on X in comparison to y.\n",
        "\n",
        "    Source - https://madewithml.com/courses/foundations/neural-networks/ (with modifications)\n",
        "    \"\"\"\n",
        "    # Put everything to CPU (works better with NumPy + Matplotlib)\n",
        "    model.to(\"cpu\")\n",
        "    X, y = X.to(\"cpu\"), y.to(\"cpu\")\n",
        "\n",
        "    # Setup prediction boundaries and grid\n",
        "    x_min, x_max = X[:, 0].min() - 0.1, X[:, 0].max() + 0.1\n",
        "    y_min, y_max = X[:, 1].min() - 0.1, X[:, 1].max() + 0.1\n",
        "    xx, yy = np.meshgrid(np.linspace(x_min, x_max, 101), np.linspace(y_min, y_max, 101))\n",
        "\n",
        "    # Make features\n",
        "    X_to_pred_on = torch.from_numpy(np.column_stack((xx.ravel(), yy.ravel()))).float()\n",
        "\n",
        "    # Make predictions\n",
        "    model.eval()\n",
        "    with torch.inference_mode():\n",
        "        y_logits = model(X_to_pred_on)\n",
        "\n",
        "    # Test for multi-class or binary and adjust logits to prediction labels\n",
        "    if len(torch.unique(y)) > 2:\n",
        "        y_pred = torch.softmax(y_logits, dim=1).argmax(dim=1)  # mutli-class\n",
        "    else:\n",
        "        y_pred = torch.round(torch.sigmoid(y_logits))  # binary\n",
        "\n",
        "    # Reshape preds and plot\n",
        "    y_pred = y_pred.reshape(xx.shape).detach().numpy()\n",
        "    plt.contourf(xx, yy, y_pred, cmap=plt.cm.RdYlBu, alpha=0.7)\n",
        "    plt.scatter(X[:, 0], X[:, 1], c=y, s=40, cmap=plt.cm.RdYlBu)\n",
        "    plt.xlim(xx.min(), xx.max())\n",
        "    plt.ylim(yy.min(), yy.max())\n"
      ],
      "metadata": {
        "trusted": true,
        "execution": {
          "iopub.status.busy": "2024-11-22T18:08:56.533318Z",
          "iopub.execute_input": "2024-11-22T18:08:56.533816Z",
          "iopub.status.idle": "2024-11-22T18:08:56.548826Z",
          "shell.execute_reply.started": "2024-11-22T18:08:56.533766Z",
          "shell.execute_reply": "2024-11-22T18:08:56.547616Z"
        },
        "id": "UfgFG2uWYUYs"
      },
      "outputs": [],
      "execution_count": null
    },
    {
      "cell_type": "markdown",
      "source": [
        "## Plot the decision boundaries"
      ],
      "metadata": {
        "id": "uKHYfjj0YUYu"
      }
    },
    {
      "cell_type": "code",
      "source": [
        "plt.figure(figsize=(12,6))\n",
        "plt.subplot(1,2,1)\n",
        "plt.title(\"Train\")\n",
        "plot_decision_boundary(model, X_train, y_train)\n",
        "plt.subplot(1,2,2)\n",
        "plt.title(\"Test\")\n",
        "plot_decision_boundary(model, X_test, y_test)\n",
        "plt.show()\n"
      ],
      "metadata": {
        "trusted": true,
        "execution": {
          "iopub.status.busy": "2024-11-22T18:09:03.181551Z",
          "iopub.execute_input": "2024-11-22T18:09:03.181937Z",
          "iopub.status.idle": "2024-11-22T18:09:16.655787Z",
          "shell.execute_reply.started": "2024-11-22T18:09:03.181904Z",
          "shell.execute_reply": "2024-11-22T18:09:16.654558Z"
        },
        "id": "zy4tEsZpYUYw"
      },
      "outputs": [],
      "execution_count": null
    },
    {
      "cell_type": "markdown",
      "source": [
        "## Classification Report and Confusion Matrix"
      ],
      "metadata": {
        "id": "QyorjxSjYUYy"
      }
    },
    {
      "cell_type": "code",
      "source": [
        "from sklearn.metrics import classification_report, confusion_matrix\n",
        "predicted_labels_arr=[]"
      ],
      "metadata": {
        "trusted": true,
        "execution": {
          "iopub.status.busy": "2024-11-22T18:10:14.939306Z",
          "iopub.execute_input": "2024-11-22T18:10:14.940964Z",
          "iopub.status.idle": "2024-11-22T18:10:14.947935Z",
          "shell.execute_reply.started": "2024-11-22T18:10:14.940907Z",
          "shell.execute_reply": "2024-11-22T18:10:14.946168Z"
        },
        "id": "7UwIkUn5YUY0"
      },
      "outputs": [],
      "execution_count": null
    },
    {
      "cell_type": "code",
      "source": [
        "with torch.no_grad():\n",
        "    outputs = model(X_test)\n",
        "    y_pred = torch.sigmoid(outputs)\n",
        "    predicted_labels = (y_pred > 0.5).cpu().numpy().astype(int)\n",
        "    predicted_labels_arr.append(predicted_labels)\n",
        "\n",
        "# Generate classification report\n",
        "report_dict = classification_report(y_test, predicted_labels, output_dict=True)\n",
        "\n",
        "# Create confusion matrix\n",
        "cm = confusion_matrix(y_test, predicted_labels)"
      ],
      "metadata": {
        "trusted": true,
        "execution": {
          "iopub.status.busy": "2024-11-22T18:10:17.236889Z",
          "iopub.execute_input": "2024-11-22T18:10:17.237584Z",
          "iopub.status.idle": "2024-11-22T18:10:17.540839Z",
          "shell.execute_reply.started": "2024-11-22T18:10:17.237546Z",
          "shell.execute_reply": "2024-11-22T18:10:17.539651Z"
        },
        "id": "fGYCbTwmYUY2"
      },
      "outputs": [],
      "execution_count": null
    },
    {
      "cell_type": "code",
      "source": [
        "# Plot confusion matrix\n",
        "plt.figure(figsize=(8, 6))\n",
        "class_names = ['Non-Attack', 'Attack']\n",
        "\n",
        "sns.heatmap(cm, annot=True, fmt='d', cmap='Blues',\n",
        "                xticklabels=class_names,\n",
        "                yticklabels=class_names)\n",
        "plt.title('Confusion Matrix')\n",
        "plt.ylabel('True Label')\n",
        "plt.xlabel('Predicted Label')\n",
        "\n",
        "# Print detailed report\n",
        "print(\"\\n=== Classification Report ===\")\n",
        "print(f\"\\nAccuracy: {report_dict['accuracy']:.4f}\")\n",
        "print(\"\\nDetailed Metrics:\")\n",
        "\n",
        "metrics_df = pd.DataFrame({\n",
        "        'Precision': [report_dict['0.0']['precision'], report_dict['1.0']['precision']],\n",
        "        'Recall': [report_dict['0.0']['recall'], report_dict['1.0']['recall']],\n",
        "        'F1-Score': [report_dict['0.0']['f1-score'], report_dict['1.0']['f1-score']],\n",
        "        'Support': [report_dict['0.0']['support'], report_dict['1.0']['support']]\n",
        "    }, index=class_names)\n",
        "\n",
        "print(metrics_df.round(4))"
      ],
      "metadata": {
        "trusted": true,
        "execution": {
          "iopub.status.busy": "2024-11-22T18:10:22.15871Z",
          "iopub.execute_input": "2024-11-22T18:10:22.159319Z",
          "iopub.status.idle": "2024-11-22T18:10:22.574392Z",
          "shell.execute_reply.started": "2024-11-22T18:10:22.159261Z",
          "shell.execute_reply": "2024-11-22T18:10:22.571184Z"
        },
        "id": "bFPYriHqYUY4"
      },
      "outputs": [],
      "execution_count": null
    },
    {
      "cell_type": "code",
      "source": [
        "## Convert predicted labels to a list\n",
        "predicted_labels_arr=predicted_labels_arr[0].flatten().tolist()"
      ],
      "metadata": {
        "trusted": true,
        "execution": {
          "iopub.status.busy": "2024-11-22T18:10:29.997417Z",
          "iopub.execute_input": "2024-11-22T18:10:29.997843Z",
          "iopub.status.idle": "2024-11-22T18:10:30.003642Z",
          "shell.execute_reply.started": "2024-11-22T18:10:29.99781Z",
          "shell.execute_reply": "2024-11-22T18:10:30.002514Z"
        },
        "id": "iLyBvj61YUY7"
      },
      "outputs": [],
      "execution_count": null
    },
    {
      "cell_type": "code",
      "source": [
        "## Convert true values to a list\n",
        "true_labels=y_test.detach().numpy().tolist()"
      ],
      "metadata": {
        "trusted": true,
        "execution": {
          "iopub.status.busy": "2024-11-22T18:10:31.39709Z",
          "iopub.execute_input": "2024-11-22T18:10:31.397649Z",
          "iopub.status.idle": "2024-11-22T18:10:31.407654Z",
          "shell.execute_reply.started": "2024-11-22T18:10:31.397597Z",
          "shell.execute_reply": "2024-11-22T18:10:31.406392Z"
        },
        "id": "RaNxYRuLYUY9"
      },
      "outputs": [],
      "execution_count": null
    },
    {
      "cell_type": "markdown",
      "source": [
        "## ROC AUC"
      ],
      "metadata": {
        "id": "vuW-wiskYUZA"
      }
    },
    {
      "cell_type": "code",
      "source": [
        "from sklearn.metrics import roc_curve, roc_auc_score\n",
        "# Compute ROC curve\n",
        "fpr, tpr, thresholds = roc_curve(true_labels, predicted_labels_arr)\n",
        "\n",
        "# Compute AUC score\n",
        "auc_score = roc_auc_score(true_labels, predicted_labels_arr)\n",
        "\n",
        "# Plot the ROC curve\n",
        "plt.figure(figsize=(8, 6))\n",
        "plt.plot(fpr, tpr, label=f\"AUC = {auc_score:.4f}\", color=\"blue\")\n",
        "plt.plot([0, 1], [0, 1], linestyle=\"--\", color=\"gray\")  # Diagonal line for random guessing\n",
        "plt.title(\"ROC Curve\")\n",
        "plt.xlabel(\"False Positive Rate (FPR)\")\n",
        "plt.ylabel(\"True Positive Rate (TPR)\")\n",
        "plt.legend(loc=\"lower right\")\n",
        "plt.grid()\n",
        "# # Add threshold annotations\n",
        "# threshold_points = [0.2, 0.5]\n",
        "# for thresh in threshold_points:\n",
        "#     idx = (np.abs(thresholds - thresh)).argmin()\n",
        "#     plt.annotate(f'threshold={thresh:.1f}',\n",
        "#                     xy=(fpr[idx], tpr[idx]),\n",
        "#                     xytext=(10, -10),\n",
        "#                     textcoords='offset points',\n",
        "#                     ha='left',\n",
        "#                     va='top',\n",
        "#                     fontsize=8)\n",
        "plt.show()"
      ],
      "metadata": {
        "trusted": true,
        "execution": {
          "iopub.status.busy": "2024-11-22T18:10:33.558202Z",
          "iopub.execute_input": "2024-11-22T18:10:33.559184Z",
          "iopub.status.idle": "2024-11-22T18:10:33.830749Z",
          "shell.execute_reply.started": "2024-11-22T18:10:33.559138Z",
          "shell.execute_reply": "2024-11-22T18:10:33.829153Z"
        },
        "id": "dZuQZ5L2YUZC"
      },
      "outputs": [],
      "execution_count": null
    }
  ]
}