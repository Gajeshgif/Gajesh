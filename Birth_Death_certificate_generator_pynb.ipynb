{
  "nbformat": 4,
  "nbformat_minor": 0,
  "metadata": {
    "colab": {
      "provenance": [],
      "authorship_tag": "ABX9TyMt4Z7aE/DHrhMD9z9ai5GU",
      "include_colab_link": true
    },
    "kernelspec": {
      "name": "python3",
      "display_name": "Python 3"
    },
    "language_info": {
      "name": "python"
    }
  },
  "cells": [
    {
      "cell_type": "markdown",
      "metadata": {
        "id": "view-in-github",
        "colab_type": "text"
      },
      "source": [
        "<a href=\"https://colab.research.google.com/github/Gajeshgif/Gajesh/blob/main/Birth_Death_certificate_generator_pynb.ipynb\" target=\"_parent\"><img src=\"https://colab.research.google.com/assets/colab-badge.svg\" alt=\"Open In Colab\"/></a>"
      ]
    },
    {
      "cell_type": "markdown",
      "source": [
        "Install required libraries"
      ],
      "metadata": {
        "id": "7AZ9_G4Ak7z7"
      }
    },
    {
      "cell_type": "code",
      "source": [
        "pip install fpdf qrcode"
      ],
      "metadata": {
        "id": "J0Qwz4DGGwgN"
      },
      "execution_count": null,
      "outputs": []
    },
    {
      "cell_type": "code",
      "source": [
        "from fpdf import FPDF\n",
        "import qrcode"
      ],
      "metadata": {
        "id": "KZMS1ohfiyXG"
      },
      "execution_count": null,
      "outputs": []
    },
    {
      "cell_type": "markdown",
      "source": [
        "Data collection"
      ],
      "metadata": {
        "id": "pn55T_9fbxp7"
      }
    },
    {
      "cell_type": "code",
      "source": [
        "name = input(\"Enter name: \")\n",
        "dob = input(\"Enter date of birth: \")"
      ],
      "metadata": {
        "id": "o9nQkNyTj34G"
      },
      "execution_count": 1,
      "outputs": []
    },
    {
      "cell_type": "markdown",
      "source": [
        "Generate Birth and Death certificate"
      ],
      "metadata": {
        "id": "ENSVhUWxlxD_"
      }
    },
    {
      "cell_type": "code",
      "source": [
        "# PDF creation\n",
        "pdf = FPDF()\n",
        "pdf.add_page()\n",
        "pdf.set_font(\"Arial\", size=12)\n",
        "pdf.cell(200, 10, txt=f\"Birth Certificate: {name}\", ln=True)\n",
        "\n",
        "# QR code\n",
        "img = qrcode.make(f\"Name: {name}, DOB: {dob}\")\n",
        "img.save(\"cert_qr.png\")\n",
        "pdf.image(\"cert_qr.png\", x=10, y=20, w=30)\n",
        "\n",
        "pdf.output(\"birth_certificate.pdf\")\n",
        "print(\"Certificate generated!\")"
      ],
      "metadata": {
        "id": "uXCIMsh8kGwB"
      },
      "execution_count": null,
      "outputs": []
    }
  ]
}