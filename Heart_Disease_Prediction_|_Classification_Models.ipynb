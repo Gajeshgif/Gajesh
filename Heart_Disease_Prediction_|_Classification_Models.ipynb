{
  "metadata": {
    "kernelspec": {
      "language": "python",
      "display_name": "Python 3",
      "name": "python3"
    },
    "language_info": {
      "name": "python",
      "version": "3.11.11",
      "mimetype": "text/x-python",
      "codemirror_mode": {
        "name": "ipython",
        "version": 3
      },
      "pygments_lexer": "ipython3",
      "nbconvert_exporter": "python",
      "file_extension": ".py"
    },
    "kaggle": {
      "accelerator": "none",
      "dataSources": [
        {
          "sourceId": 2603715,
          "sourceType": "datasetVersion",
          "datasetId": 1582403
        }
      ],
      "dockerImageVersionId": 31040,
      "isInternetEnabled": true,
      "language": "python",
      "sourceType": "notebook",
      "isGpuEnabled": false
    },
    "colab": {
      "name": "Heart Disease Prediction | Classification Models",
      "provenance": [],
      "include_colab_link": true
    }
  },
  "nbformat_minor": 0,
  "nbformat": 4,
  "cells": [
    {
      "cell_type": "markdown",
      "metadata": {
        "id": "view-in-github",
        "colab_type": "text"
      },
      "source": [
        "<a href=\"https://colab.research.google.com/github/Gajeshgif/Gajesh/blob/main/Heart_Disease_Prediction_%7C_Classification_Models.ipynb\" target=\"_parent\"><img src=\"https://colab.research.google.com/assets/colab-badge.svg\" alt=\"Open In Colab\"/></a>"
      ]
    },
    {
      "source": [
        "# IMPORTANT: RUN THIS CELL IN ORDER TO IMPORT YOUR KAGGLE DATA SOURCES,\n",
        "# THEN FEEL FREE TO DELETE THIS CELL.\n",
        "# NOTE: THIS NOTEBOOK ENVIRONMENT DIFFERS FROM KAGGLE'S PYTHON\n",
        "# ENVIRONMENT SO THERE MAY BE MISSING LIBRARIES USED BY YOUR\n",
        "# NOTEBOOK.\n",
        "import kagglehub\n",
        "fedesoriano_heart_failure_prediction_path = kagglehub.dataset_download('fedesoriano/heart-failure-prediction')\n",
        "\n",
        "print('Data source import complete.')"
      ],
      "metadata": {
        "id": "JG9sSJROULBw"
      },
      "cell_type": "code",
      "outputs": [],
      "execution_count": null
    },
    {
      "cell_type": "code",
      "source": [
        "# This Python 3 environment comes with many helpful analytics libraries installed\n",
        "# It is defined by the kaggle/python Docker image: https://github.com/kaggle/docker-python\n",
        "# For example, here's several helpful packages to load\n",
        "\n",
        "import numpy as np # linear algebra\n",
        "import pandas as pd # data processing, CSV file I/O (e.g. pd.read_csv)\n",
        "\n",
        "# Input data files are available in the read-only \"../input/\" directory\n",
        "# For example, running this (by clicking run or pressing Shift+Enter) will list all files under the input directory\n",
        "\n",
        "import os\n",
        "for dirname, _, filenames in os.walk('/kaggle/input'):\n",
        "    for filename in filenames:\n",
        "        print(os.path.join(dirname, filename))\n",
        "\n",
        "# You can write up to 20GB to the current directory (/kaggle/working/) that gets preserved as output when you create a version using \"Save & Run All\"\n",
        "# You can also write temporary files to /kaggle/temp/, but they won't be saved outside of the current session"
      ],
      "metadata": {
        "_uuid": "8f2839f25d086af736a60e9eeb907d3b93b6e0e5",
        "_cell_guid": "b1076dfc-b9ad-4769-8c92-a6c4dae69d19",
        "trusted": true,
        "execution": {
          "iopub.status.busy": "2025-06-17T10:53:10.316828Z",
          "iopub.execute_input": "2025-06-17T10:53:10.317038Z",
          "iopub.status.idle": "2025-06-17T10:53:10.324224Z",
          "shell.execute_reply.started": "2025-06-17T10:53:10.317021Z",
          "shell.execute_reply": "2025-06-17T10:53:10.323194Z"
        },
        "id": "LQG8ox79ULB3"
      },
      "outputs": [],
      "execution_count": null
    },
    {
      "cell_type": "code",
      "source": [
        "df=pd.read_csv(\"/kaggle/input/heart-failure-prediction/heart.csv\")"
      ],
      "metadata": {
        "trusted": true,
        "execution": {
          "iopub.status.busy": "2025-06-17T10:53:20.541863Z",
          "iopub.execute_input": "2025-06-17T10:53:20.542169Z",
          "iopub.status.idle": "2025-06-17T10:53:20.568227Z",
          "shell.execute_reply.started": "2025-06-17T10:53:20.542148Z",
          "shell.execute_reply": "2025-06-17T10:53:20.567326Z"
        },
        "id": "_gA2IpgnULB6"
      },
      "outputs": [],
      "execution_count": null
    },
    {
      "cell_type": "code",
      "source": [
        "df.head()"
      ],
      "metadata": {
        "trusted": true,
        "execution": {
          "iopub.status.busy": "2025-06-17T10:53:23.632255Z",
          "iopub.execute_input": "2025-06-17T10:53:23.632568Z",
          "iopub.status.idle": "2025-06-17T10:53:23.664838Z",
          "shell.execute_reply.started": "2025-06-17T10:53:23.632545Z",
          "shell.execute_reply": "2025-06-17T10:53:23.664003Z"
        },
        "id": "VLW7kEMXULB-"
      },
      "outputs": [],
      "execution_count": null
    },
    {
      "cell_type": "code",
      "source": [
        "df.info()"
      ],
      "metadata": {
        "trusted": true,
        "execution": {
          "iopub.status.busy": "2025-06-17T10:53:55.364603Z",
          "iopub.execute_input": "2025-06-17T10:53:55.3649Z",
          "iopub.status.idle": "2025-06-17T10:53:55.393043Z",
          "shell.execute_reply.started": "2025-06-17T10:53:55.364879Z",
          "shell.execute_reply": "2025-06-17T10:53:55.392027Z"
        },
        "id": "O4dqsWxPULCB"
      },
      "outputs": [],
      "execution_count": null
    },
    {
      "cell_type": "code",
      "source": [
        "cat_cols=[\"Sex\",\"ChestPainType\",\"RestingECG\",\"ExerciseAngina\",\"ST_Slope\"]\n",
        "num_cols=[\"Age\",\"RestingBP\",\"Cholesterol\",\"FastingBS\",\"MaxHR\",\"Oldpeak\"]"
      ],
      "metadata": {
        "trusted": true,
        "execution": {
          "iopub.status.busy": "2025-06-17T10:56:16.273752Z",
          "iopub.execute_input": "2025-06-17T10:56:16.274157Z",
          "iopub.status.idle": "2025-06-17T10:56:16.281671Z",
          "shell.execute_reply.started": "2025-06-17T10:56:16.274104Z",
          "shell.execute_reply": "2025-06-17T10:56:16.280653Z"
        },
        "id": "ymltp3kZULCF"
      },
      "outputs": [],
      "execution_count": null
    },
    {
      "cell_type": "code",
      "source": [
        "for i in cat_cols:\n",
        "    print(df[i].value_counts())"
      ],
      "metadata": {
        "trusted": true,
        "execution": {
          "iopub.status.busy": "2025-06-17T10:56:36.264574Z",
          "iopub.execute_input": "2025-06-17T10:56:36.265026Z",
          "iopub.status.idle": "2025-06-17T10:56:36.276362Z",
          "shell.execute_reply.started": "2025-06-17T10:56:36.264988Z",
          "shell.execute_reply": "2025-06-17T10:56:36.2751Z"
        },
        "id": "VQBizHoCULCJ"
      },
      "outputs": [],
      "execution_count": null
    },
    {
      "cell_type": "code",
      "source": [
        "import matplotlib.pyplot as plt\n",
        "import seaborn as sns\n",
        "for i in num_cols:\n",
        "    plt.figure()\n",
        "    sns.boxplot(x=df[i])\n",
        "    plt.title(\"Outlier Detection\")\n",
        "    plt.show()"
      ],
      "metadata": {
        "trusted": true,
        "execution": {
          "iopub.status.busy": "2025-06-17T10:57:33.9157Z",
          "iopub.execute_input": "2025-06-17T10:57:33.916013Z",
          "iopub.status.idle": "2025-06-17T10:57:35.732878Z",
          "shell.execute_reply.started": "2025-06-17T10:57:33.91599Z",
          "shell.execute_reply": "2025-06-17T10:57:35.731936Z"
        },
        "id": "bbXQOYXBULCN"
      },
      "outputs": [],
      "execution_count": null
    },
    {
      "cell_type": "code",
      "source": [
        "df[\"HeartDisease\"].value_counts()"
      ],
      "metadata": {
        "trusted": true,
        "execution": {
          "iopub.status.busy": "2025-06-17T11:15:31.304671Z",
          "iopub.execute_input": "2025-06-17T11:15:31.304978Z",
          "iopub.status.idle": "2025-06-17T11:15:31.315297Z",
          "shell.execute_reply.started": "2025-06-17T11:15:31.304957Z",
          "shell.execute_reply": "2025-06-17T11:15:31.314219Z"
        },
        "id": "pAq7N_jFULCR"
      },
      "outputs": [],
      "execution_count": null
    },
    {
      "cell_type": "code",
      "source": [
        "df.head()"
      ],
      "metadata": {
        "trusted": true,
        "execution": {
          "iopub.status.busy": "2025-06-17T11:03:14.976528Z",
          "iopub.execute_input": "2025-06-17T11:03:14.976862Z",
          "iopub.status.idle": "2025-06-17T11:03:14.990864Z",
          "shell.execute_reply.started": "2025-06-17T11:03:14.976838Z",
          "shell.execute_reply": "2025-06-17T11:03:14.989958Z"
        },
        "id": "Y6R35UTvULCU"
      },
      "outputs": [],
      "execution_count": null
    },
    {
      "cell_type": "code",
      "source": [
        "cat_cols=[\"Sex\",\"ChestPainType\",\"RestingECG\",\"ExerciseAngina\",\"ST_Slope\"]\n",
        "num_cols=[\"Age\",\"RestingBP\",\"Cholesterol\",\"MaxHR\",\"Oldpeak\"]"
      ],
      "metadata": {
        "trusted": true,
        "execution": {
          "iopub.status.busy": "2025-06-17T10:59:29.869484Z",
          "iopub.execute_input": "2025-06-17T10:59:29.870015Z",
          "iopub.status.idle": "2025-06-17T10:59:29.875566Z",
          "shell.execute_reply.started": "2025-06-17T10:59:29.869987Z",
          "shell.execute_reply": "2025-06-17T10:59:29.874419Z"
        },
        "id": "RZ97041RULCX"
      },
      "outputs": [],
      "execution_count": null
    },
    {
      "cell_type": "code",
      "source": [
        "from sklearn.model_selection import train_test_split\n",
        "from sklearn.preprocessing import RobustScaler, OneHotEncoder, OrdinalEncoder\n",
        "from sklearn.compose import ColumnTransformer\n",
        "\n",
        "X=df.drop(\"HeartDisease\",axis=1)\n",
        "y=df[\"HeartDisease\"]\n",
        "\n",
        "X_train,X_test,y_train,y_test=train_test_split(X,y,test_size=0.2,random_state=42)\n",
        "\n",
        "preprocessor = ColumnTransformer(\n",
        "    transformers=[\n",
        "        (\"num\", RobustScaler(), num_cols),\n",
        "        (\"cat\", OneHotEncoder(), cat_cols)\n",
        "    ]\n",
        ")\n",
        "\n",
        "X_train_scaled = preprocessor.fit_transform(X_train)\n",
        "X_test_scaled = preprocessor.transform(X_test)"
      ],
      "metadata": {
        "trusted": true,
        "execution": {
          "iopub.status.busy": "2025-06-17T11:06:20.486805Z",
          "iopub.execute_input": "2025-06-17T11:06:20.487181Z",
          "iopub.status.idle": "2025-06-17T11:06:20.515727Z",
          "shell.execute_reply.started": "2025-06-17T11:06:20.487149Z",
          "shell.execute_reply": "2025-06-17T11:06:20.514433Z"
        },
        "id": "Yk3I96z7ULCZ"
      },
      "outputs": [],
      "execution_count": null
    },
    {
      "cell_type": "code",
      "source": [
        "from sklearn.linear_model import LogisticRegression\n",
        "from sklearn.tree import DecisionTreeClassifier\n",
        "from sklearn.ensemble import RandomForestClassifier, GradientBoostingClassifier, AdaBoostClassifier\n",
        "from sklearn.svm import SVC\n",
        "from sklearn.neighbors import KNeighborsClassifier\n",
        "from xgboost import XGBClassifier\n",
        "from sklearn.metrics import accuracy_score, precision_score, recall_score, f1_score, roc_auc_score\n",
        "import pandas as pd\n",
        "import numpy as np\n",
        "import warnings\n",
        "warnings.filterwarnings(\"ignore\")\n",
        "\n",
        "def test_classification_models(X_train, X_test, y_train, y_test):\n",
        "    models = {\n",
        "        'LogisticRegression': LogisticRegression(max_iter=1000),\n",
        "        'DecisionTree': DecisionTreeClassifier(),\n",
        "        'RandomForest': RandomForestClassifier(),\n",
        "        'GradientBoosting': GradientBoostingClassifier(),\n",
        "        'AdaBoost': AdaBoostClassifier(),\n",
        "        'SVC': SVC(probability=True),\n",
        "        'KNN': KNeighborsClassifier(),\n",
        "        'XGBoost': XGBClassifier(use_label_encoder=False, eval_metric='logloss', verbosity=0)\n",
        "    }\n",
        "\n",
        "    results = []\n",
        "\n",
        "    for name, model in models.items():\n",
        "        model.fit(X_train, y_train)\n",
        "        preds = model.predict(X_test)\n",
        "\n",
        "        results.append({\n",
        "            'Model': name,\n",
        "            'Accuracy': accuracy_score(y_test, preds),\n",
        "            'Precision': precision_score(y_test, preds, average='weighted', zero_division=0),\n",
        "            'Recall': recall_score(y_test, preds, average='weighted', zero_division=0),\n",
        "            'F1-Score': f1_score(y_test, preds, average='weighted')\n",
        "        })\n",
        "\n",
        "    return pd.DataFrame(results).sort_values(by='F1-Score', ascending=False).reset_index(drop=True)\n",
        "\n"
      ],
      "metadata": {
        "trusted": true,
        "execution": {
          "iopub.status.busy": "2025-06-17T11:06:20.642966Z",
          "iopub.execute_input": "2025-06-17T11:06:20.643347Z",
          "iopub.status.idle": "2025-06-17T11:06:20.653083Z",
          "shell.execute_reply.started": "2025-06-17T11:06:20.643321Z",
          "shell.execute_reply": "2025-06-17T11:06:20.652205Z"
        },
        "id": "GjKAfc5fULCa"
      },
      "outputs": [],
      "execution_count": null
    },
    {
      "cell_type": "code",
      "source": [
        "df_results = test_classification_models(X_train_scaled, X_test_scaled, y_train, y_test)\n",
        "print(df_results)"
      ],
      "metadata": {
        "trusted": true,
        "execution": {
          "iopub.status.busy": "2025-06-17T11:06:20.807588Z",
          "iopub.execute_input": "2025-06-17T11:06:20.807905Z",
          "iopub.status.idle": "2025-06-17T11:06:21.732778Z",
          "shell.execute_reply.started": "2025-06-17T11:06:20.807881Z",
          "shell.execute_reply": "2025-06-17T11:06:21.73144Z"
        },
        "id": "YbI9IPfIULCc"
      },
      "outputs": [],
      "execution_count": null
    },
    {
      "cell_type": "code",
      "source": [
        "from sklearn.model_selection import cross_val_score"
      ],
      "metadata": {
        "trusted": true,
        "execution": {
          "iopub.status.busy": "2025-06-17T11:21:12.806564Z",
          "iopub.execute_input": "2025-06-17T11:21:12.806884Z",
          "iopub.status.idle": "2025-06-17T11:21:12.812398Z",
          "shell.execute_reply.started": "2025-06-17T11:21:12.806864Z",
          "shell.execute_reply": "2025-06-17T11:21:12.811269Z"
        },
        "id": "bHiU4l6AULCe"
      },
      "outputs": [],
      "execution_count": null
    },
    {
      "cell_type": "code",
      "source": [
        "X=preprocessor.fit_transform(X)"
      ],
      "metadata": {
        "trusted": true,
        "execution": {
          "iopub.status.busy": "2025-06-17T11:22:12.945201Z",
          "iopub.execute_input": "2025-06-17T11:22:12.945502Z",
          "iopub.status.idle": "2025-06-17T11:22:12.963276Z",
          "shell.execute_reply.started": "2025-06-17T11:22:12.945483Z",
          "shell.execute_reply": "2025-06-17T11:22:12.961909Z"
        },
        "id": "Rw2a3IRgULCg"
      },
      "outputs": [],
      "execution_count": null
    },
    {
      "cell_type": "code",
      "source": [
        "model=RandomForestClassifier()\n",
        "print(cross_val_score(model, X, y, cv=5))"
      ],
      "metadata": {
        "trusted": true,
        "execution": {
          "iopub.status.busy": "2025-06-17T11:22:13.998909Z",
          "iopub.execute_input": "2025-06-17T11:22:13.999268Z",
          "iopub.status.idle": "2025-06-17T11:22:15.019118Z",
          "shell.execute_reply.started": "2025-06-17T11:22:13.999238Z",
          "shell.execute_reply": "2025-06-17T11:22:15.018189Z"
        },
        "id": "spiAGTW0ULCh"
      },
      "outputs": [],
      "execution_count": null
    },
    {
      "cell_type": "code",
      "source": [],
      "metadata": {
        "trusted": true,
        "id": "OrCX8vjZULCk"
      },
      "outputs": [],
      "execution_count": null
    }
  ]
}