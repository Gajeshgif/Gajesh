{
  "metadata": {
    "kernelspec": {
      "name": "python3",
      "display_name": "Python 3",
      "language": "python"
    },
    "language_info": {
      "name": "python",
      "version": "3.11.11",
      "mimetype": "text/x-python",
      "codemirror_mode": {
        "name": "ipython",
        "version": 3
      },
      "pygments_lexer": "ipython3",
      "nbconvert_exporter": "python",
      "file_extension": ".py"
    },
    "colab": {
      "provenance": [],
      "name": "sales_prediction",
      "include_colab_link": true
    },
    "kaggle": {
      "accelerator": "none",
      "dataSources": [
        {
          "sourceId": 896,
          "sourceType": "datasetVersion",
          "datasetId": 435
        }
      ],
      "dockerImageVersionId": 31012,
      "isInternetEnabled": true,
      "language": "python",
      "sourceType": "notebook",
      "isGpuEnabled": false
    }
  },
  "nbformat_minor": 0,
  "nbformat": 4,
  "cells": [
    {
      "cell_type": "markdown",
      "metadata": {
        "id": "view-in-github",
        "colab_type": "text"
      },
      "source": [
        "<a href=\"https://colab.research.google.com/github/Gajeshgif/Gajesh/blob/main/sales_prediction.ipynb\" target=\"_parent\"><img src=\"https://colab.research.google.com/assets/colab-badge.svg\" alt=\"Open In Colab\"/></a>"
      ]
    },
    {
      "source": [
        "# IMPORTANT: RUN THIS CELL IN ORDER TO IMPORT YOUR KAGGLE DATA SOURCES,\n",
        "# THEN FEEL FREE TO DELETE THIS CELL.\n",
        "# NOTE: THIS NOTEBOOK ENVIRONMENT DIFFERS FROM KAGGLE'S PYTHON\n",
        "# ENVIRONMENT SO THERE MAY BE MISSING LIBRARIES USED BY YOUR\n",
        "# NOTEBOOK.\n",
        "import kagglehub\n",
        "kyanyoga_sample_sales_data_path = kagglehub.dataset_download('kyanyoga/sample-sales-data')\n",
        "\n",
        "print('Data source import complete.')"
      ],
      "metadata": {
        "id": "uUaIx-9xXQ4C"
      },
      "cell_type": "code",
      "outputs": [],
      "execution_count": null
    },
    {
      "cell_type": "markdown",
      "source": [
        "Importing necessary Libraries."
      ],
      "metadata": {
        "id": "Gnl4gm8b3T5b"
      }
    },
    {
      "cell_type": "code",
      "source": [
        "import numpy as np\n",
        "import pandas as pd\n",
        "import matplotlib.pyplot as plt\n",
        "import seaborn as sns\n",
        "from prophet import Prophet\n",
        "from sklearn.metrics import mean_absolute_error, mean_squared_error\n",
        "from prophet.plot import plot_plotly\n",
        "from statsmodels.tsa.seasonal import seasonal_decompose"
      ],
      "metadata": {
        "id": "Eehh6_m53YHb",
        "trusted": true,
        "execution": {
          "iopub.status.busy": "2025-05-04T12:15:31.400506Z",
          "iopub.execute_input": "2025-05-04T12:15:31.400811Z",
          "iopub.status.idle": "2025-05-04T12:15:37.105694Z",
          "shell.execute_reply.started": "2025-05-04T12:15:31.400783Z",
          "shell.execute_reply": "2025-05-04T12:15:37.104725Z"
        }
      },
      "outputs": [],
      "execution_count": null
    },
    {
      "cell_type": "markdown",
      "source": [
        "Data loading and Preprocessing"
      ],
      "metadata": {
        "id": "DcmJdaHc32Qq"
      }
    },
    {
      "cell_type": "code",
      "source": [
        "sales_df = pd.read_csv('/kaggle/input/sample-sales-data/sales_data_sample.csv', encoding='latin1')\n",
        "\n",
        "sales_df.head()\n"
      ],
      "metadata": {
        "id": "8Z99Zo3s4BWM",
        "trusted": true,
        "execution": {
          "iopub.status.busy": "2025-05-04T12:16:18.911798Z",
          "iopub.execute_input": "2025-05-04T12:16:18.912114Z",
          "iopub.status.idle": "2025-05-04T12:16:18.998271Z",
          "shell.execute_reply.started": "2025-05-04T12:16:18.91209Z",
          "shell.execute_reply": "2025-05-04T12:16:18.997278Z"
        }
      },
      "outputs": [],
      "execution_count": null
    },
    {
      "cell_type": "code",
      "source": [
        "sales_df['ORDERDATE'] = pd.to_datetime(sales_df['ORDERDATE'])\n",
        "\n",
        "print(sales_df['PRODUCTLINE'].unique())"
      ],
      "metadata": {
        "id": "5Nxpwy115GhY",
        "trusted": true,
        "execution": {
          "iopub.status.busy": "2025-05-04T12:16:23.712177Z",
          "iopub.execute_input": "2025-05-04T12:16:23.712586Z",
          "iopub.status.idle": "2025-05-04T12:16:23.74389Z",
          "shell.execute_reply.started": "2025-05-04T12:16:23.712553Z",
          "shell.execute_reply": "2025-05-04T12:16:23.742236Z"
        }
      },
      "outputs": [],
      "execution_count": null
    },
    {
      "cell_type": "markdown",
      "source": [
        "Monthly Sales Analysis for Motercycles"
      ],
      "metadata": {
        "id": "lrasSTow5QI6"
      }
    },
    {
      "cell_type": "code",
      "source": [
        "product = 'Vintage Cars'\n",
        "sales_group = sales_df[sales_df['PRODUCTLINE'] == product].groupby(pd.Grouper(key='ORDERDATE', freq='ME'))['SALES'].sum().reset_index()\n",
        "sales_group.rename(columns={'ORDERDATE': 'ds', 'SALES': 'y'}, inplace=True)\n",
        "\n",
        "sales_group.dropna(inplace=True)\n",
        "\n",
        "plt.figure(figsize=(12, 6))\n",
        "plt.plot(sales_group['ds'], sales_group['y'])\n",
        "plt.title(f'Monthly Sales for {product}')\n",
        "plt.xlabel('Date')\n",
        "plt.ylabel('Sales')\n",
        "plt.grid(True)"
      ],
      "metadata": {
        "id": "Cc6M7cwE5bmH"
      },
      "outputs": [],
      "execution_count": null
    },
    {
      "cell_type": "markdown",
      "source": [
        "Time Series Decomposition"
      ],
      "metadata": {
        "id": "kMiImFlZ6L1x"
      }
    },
    {
      "cell_type": "code",
      "source": [
        "\n",
        "decomposition = seasonal_decompose(sales_group.set_index('ds')['y'], model='multiplicative')\n",
        "decomposition.plot()\n",
        "plt.show()"
      ],
      "metadata": {
        "id": "aJjdkxx86PfA"
      },
      "outputs": [],
      "execution_count": null
    },
    {
      "cell_type": "markdown",
      "source": [
        "Train model with Additive Seasonality"
      ],
      "metadata": {
        "id": "_NJc7z0L7GC0"
      }
    },
    {
      "cell_type": "code",
      "source": [
        "model = Prophet(seasonality_mode='multiplicative')\n",
        "model.fit(sales_group)\n",
        "\n",
        "future = model.make_future_dataframe(periods=6, freq='ME')\n",
        "forecast = model.predict(future)\n",
        "\n",
        "plot_plotly(model, forecast)"
      ],
      "metadata": {
        "id": "WSOrxxio7OW7"
      },
      "outputs": [],
      "execution_count": null
    },
    {
      "cell_type": "markdown",
      "source": [
        "Model Evaluation"
      ],
      "metadata": {
        "id": "yOlGgyx47t20"
      }
    },
    {
      "cell_type": "code",
      "source": [
        "predicted = forecast.iloc[:len(sales_group)]\n",
        "\n",
        "y_true = sales_group['y'].values\n",
        "y_pred = predicted['yhat'].values\n",
        "\n",
        "mae = mean_absolute_error(y_true, y_pred)\n",
        "rmse = np.sqrt(mean_squared_error(y_true, y_pred))\n",
        "mape = np.mean(np.abs((y_true - y_pred) / y_true)) * 100\n",
        "\n",
        "print(f\"MAE: {mae:.2f}\")\n",
        "print(f\"RMSE: {rmse:.2f}\")\n",
        "print(f\"MAPE: {mape:.2f}%\")\n",
        "\n"
      ],
      "metadata": {
        "id": "cuh3ZnWE7wHG"
      },
      "outputs": [],
      "execution_count": null
    },
    {
      "cell_type": "markdown",
      "source": [
        "Actual vs Predicted Sales"
      ],
      "metadata": {
        "id": "IkK3kJ2R8DGT"
      }
    },
    {
      "cell_type": "code",
      "source": [
        "plt.figure(figsize=(10,6))\n",
        "sns.lineplot(x=predicted['ds'], y=y_true, label='Actual', linewidth=2.5)\n",
        "sns.lineplot(x=predicted['ds'], y=y_pred, label='Predicted', linestyle='--', linewidth=2, color='r')\n",
        "plt.title(f'Actual vs Predicted Sales - {product}')\n",
        "plt.xlabel(\"Date\")\n",
        "plt.ylabel(\"Sales\")\n",
        "plt.legend()\n",
        "plt.grid(True)\n",
        "plt.show()"
      ],
      "metadata": {
        "id": "ecciwkeK8CX8"
      },
      "outputs": [],
      "execution_count": null
    },
    {
      "cell_type": "markdown",
      "source": [
        "Month with Highest Sales"
      ],
      "metadata": {
        "id": "E090cF-zBTMo"
      }
    },
    {
      "cell_type": "code",
      "source": [
        "high_sales = forecast[['ds', 'yhat']].sort_values(by='yhat', ascending=False).iloc[0]\n",
        "\n",
        "print(f\"🔍 Forecast shows {product} sales will peak around: {high_sales['ds'].date()} with approx ${high_sales['yhat']:.2f}\")\n",
        "\n",
        "\n",
        "if len(sales_group) >= 24:\n",
        "    this_year = sales_group['y'].values[-12:]\n",
        "    last_year = sales_group['y'].values[-24:-12]\n",
        "    growth = ((sum(this_year) - sum(last_year)) / sum(last_year)) * 100\n",
        "    print(f\"📈 YoY Growth in Sales: {growth:.2f}%\")"
      ],
      "metadata": {
        "id": "NxSzY1MnBbiS"
      },
      "outputs": [],
      "execution_count": null
    }
  ]
}